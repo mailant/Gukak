{
 "cells": [
  {
   "cell_type": "code",
   "execution_count": 5,
   "metadata": {},
   "outputs": [],
   "source": [
    "# convert node index from MUSIC ORDERED (matlab result) -> PITCH ORDERED (paper)\n",
    "import numpy as np\n",
    "import json\n",
    "\n",
    "nl_SJC = np.loadtxt('sujechon_nodelist.txt',delimiter=',')\n",
    "in_matlabinx_SJC = open('sujechon_cycleinfo_matlabinx.txt')\n",
    "out_paperinx_SJC = 'sujechon_cycleinfo_pitchinx.txt'\n",
    "\n",
    "\n",
    "def convert(nl,in_matlabinx,out_paperinx):\n",
    "    f = in_matlabinx\n",
    "    nls = sorted(nl)\n",
    "    paperinx = []\n",
    "    Lines = f.readlines()\n",
    "    for line in Lines:\n",
    "        ci = json.loads(line)\n",
    "        ci_paperinx = []\n",
    "        for i in ci:\n",
    "            n = nl[i]\n",
    "            for j,node in enumerate(nls):\n",
    "                if node == n:\n",
    "                    ci_paperinx.append(j)\n",
    "        paperinx.append(ci_paperinx)\n",
    "        with open(out_paperinx,'w') as outf:\n",
    "            for ci_p in paperinx:\n",
    "                outf.write('%s\\n' % ci_p)\n",
    "convert(nl_SJC,in_matlabinx_SJC,out_paperinx_SJC)\n",
    "\n",
    "\n",
    "\n",
    "\n",
    "                "
   ]
  },
  {
   "cell_type": "code",
   "execution_count": null,
   "metadata": {},
   "outputs": [],
   "source": []
  },
  {
   "cell_type": "code",
   "execution_count": null,
   "metadata": {},
   "outputs": [],
   "source": []
  }
 ],
 "metadata": {
  "kernelspec": {
   "display_name": "Python 3",
   "language": "python",
   "name": "python3"
  },
  "language_info": {
   "codemirror_mode": {
    "name": "ipython",
    "version": 3
   },
   "file_extension": ".py",
   "mimetype": "text/x-python",
   "name": "python",
   "nbconvert_exporter": "python",
   "pygments_lexer": "ipython3",
   "version": "3.7.3"
  }
 },
 "nbformat": 4,
 "nbformat_minor": 4
}
