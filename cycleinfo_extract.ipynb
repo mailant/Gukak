{
 "cells": [
  {
   "cell_type": "code",
   "execution_count": 3,
   "metadata": {},
   "outputs": [],
   "source": [
    "def d1_info(filename): # filename = input_matlabinfo\n",
    "    import json  \n",
    "    f = open(filename,'r'); l = len(f.readlines())\n",
    "    f = open(filename,'r')\n",
    "    \n",
    "    s = []\n",
    "    for i in range(l):\n",
    "        s.append(f.readline())\n",
    "        \n",
    "    # dim1 info\n",
    "    d1s = []    \n",
    "    for i in range(l):\n",
    "        if s[i] == 'Dimension: 1\\n':\n",
    "            start_inx = i+1\n",
    "    for j in range(start_inx,l):        \n",
    "        if s[j] == 'Dimension: 2\\n' or s[j] == '\\n':\n",
    "            end_inx = j\n",
    "            break\n",
    "    for k in range(start_inx,end_inx):        \n",
    "            d1s.append(s[k])\n",
    "            \n",
    "    # get cycle info      \n",
    "    c_info = []        \n",
    "    for i in range(len(d1s)):\n",
    "        ci_int,ci = d1s[i].split(': ')  \n",
    "        ci = ci.split('\\n')[0]\n",
    "        ci_edge = ci.split(' + ')\n",
    "        for j in range(len(ci_edge)):\n",
    "            if ci_edge[j][0] == '-':\n",
    "                ci_edge[j] = json.loads(ci_edge[j][1:])\n",
    "                ci_edge[j] = ci_edge[j][::-1]\n",
    "            else:\n",
    "                ci_edge[j] = json.loads(ci_edge[j])\n",
    "        ci_node = []\n",
    "        for k in range(len(ci_edge)):\n",
    "            for node in ci_edge[k]:\n",
    "                if not(node in ci_node):\n",
    "                    ci_node.append(node)\n",
    "        ci_node.sort()\n",
    "        c_info.append([ci_node,ci_int,ci_edge])\n",
    "    c = []\n",
    "    e = []\n",
    "    for i in range(len(c_info)):\n",
    "        c.append(c_info[i][0])\n",
    "        e.append(c_info[i][2])    \n",
    "    return d1s,c,e    \n",
    "############################################################################### \n",
    "\n",
    "input_matlabinfo = 'sujechon_intervals.txt'\n",
    "output = 'sujechon_cycleinfo_matlabinx.txt'\n",
    "\n",
    "\n",
    "\n",
    "_,c,_ = d1_info(input_matlabinfo)\n",
    "# write cycle info to a file\n",
    "with open(output,'w') as f:\n",
    "    for item in c:\n",
    "        f.write('%s\\n' %item)\n"
   ]
  },
  {
   "cell_type": "code",
   "execution_count": null,
   "metadata": {},
   "outputs": [],
   "source": []
  }
 ],
 "metadata": {
  "kernelspec": {
   "display_name": "Python 3",
   "language": "python",
   "name": "python3"
  },
  "language_info": {
   "codemirror_mode": {
    "name": "ipython",
    "version": 3
   },
   "file_extension": ".py",
   "mimetype": "text/x-python",
   "name": "python",
   "nbconvert_exporter": "python",
   "pygments_lexer": "ipython3",
   "version": "3.7.3"
  }
 },
 "nbformat": 4,
 "nbformat_minor": 4
}
