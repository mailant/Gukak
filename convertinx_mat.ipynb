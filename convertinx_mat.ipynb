{
 "cells": [
  {
   "cell_type": "code",
   "execution_count": 1,
   "metadata": {},
   "outputs": [
    {
     "name": "stdout",
     "output_type": "stream",
     "text": [
      "[9, 10, 7, 14, 12, 3, 5, 8, 4, 11, 13, 2, 15, 1, 31, 28, 24, 27, 6, 16, 19, 29, 0, 23, 32, 26, 21, 20, 18, 30, 25, 22, 17]\n",
      "[[0.         0.36781609 0.66666667 ... 2.07692308 1.16666667 2.        ]\n",
      " [0.36781609 0.         0.25       ... 2.16666667 1.66666667 2.5       ]\n",
      " [0.66666667 0.25       0.         ... 1.78571429 0.4004329  1.23376623]\n",
      " ...\n",
      " [2.07692308 2.16666667 1.78571429 ... 0.         1.11111111 2.        ]\n",
      " [1.16666667 1.66666667 0.4004329  ... 1.11111111 0.         1.        ]\n",
      " [2.         2.5        1.23376623 ... 2.         1.         0.        ]]\n"
     ]
    }
   ],
   "source": [
    "import numpy as np\n",
    "\n",
    "mat = np.loadtxt('syj_distmat_paper.txt')\n",
    "nl = np.loadtxt('syj_nodelist_paper.txt')\n",
    "nls = sorted(nl)\n",
    "\n",
    "nl_inx = []\n",
    "for npit in nls:\n",
    "    for i,nmus in enumerate(nl):\n",
    "        if nmus == npit:\n",
    "            nl_inx.append(i)\n",
    "print(nl_inx)\n",
    "\n",
    "mat2=np.zeros((len(mat),len(mat)))\n",
    "for i,j in enumerate(nl_inx):\n",
    "    for k,l in enumerate(nl_inx):\n",
    "        mat2[i,k]=mat[j,l]\n",
    "print(mat2)"
   ]
  },
  {
   "cell_type": "code",
   "execution_count": 2,
   "metadata": {},
   "outputs": [],
   "source": [
    "# write new distance matrix to a file\n",
    "output_distmat = 'syj_distmat_paper_pitch.txt'\n",
    "\n",
    "matnew = np.matrix(mat2)\n",
    "with open(output_distmat,'w') as f:\n",
    "    for line in matnew:\n",
    "        np.savetxt(f,line,fmt='%.15f')"
   ]
  },
  {
   "cell_type": "code",
   "execution_count": null,
   "metadata": {},
   "outputs": [],
   "source": []
  }
 ],
 "metadata": {
  "kernelspec": {
   "display_name": "Python 3",
   "language": "python",
   "name": "python3"
  },
  "language_info": {
   "codemirror_mode": {
    "name": "ipython",
    "version": 3
   },
   "file_extension": ".py",
   "mimetype": "text/x-python",
   "name": "python",
   "nbconvert_exporter": "python",
   "pygments_lexer": "ipython3",
   "version": "3.7.3"
  }
 },
 "nbformat": 4,
 "nbformat_minor": 4
}
