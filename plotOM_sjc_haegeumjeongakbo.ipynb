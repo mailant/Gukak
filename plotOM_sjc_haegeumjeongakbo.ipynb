{
 "cells": [
  {
   "cell_type": "markdown",
   "metadata": {},
   "source": [
    "## Plot overlap matrix of Sujechon"
   ]
  },
  {
   "cell_type": "code",
   "execution_count": 2,
   "metadata": {},
   "outputs": [],
   "source": [
    "####### Cycle node numbers ##################\n",
    "import json\n",
    "f = open('sujechon_haegeumjeongakbo_cycleinfo_pitchinx.txt')\n",
    "c = []\n",
    "Lines = f.readlines()\n",
    "for line in Lines:\n",
    "    ci = json.loads(line)\n",
    "    c.append(ci)\n",
    "\n",
    "import numpy as np\n",
    "L = list(np.loadtxt('sujechon_haegeumjeongakbo_allnode.txt',delimiter=','))    \n",
    "nodelist = list(np.loadtxt('sujechon_haegeumjeongakbo_nodelist.txt',delimiter=','))\n",
    "nodelist = sorted(nodelist)    "
   ]
  },
  {
   "cell_type": "code",
   "execution_count": 3,
   "metadata": {},
   "outputs": [],
   "source": [
    "def nodeoverlap(c, L, nodelist):\n",
    "    matrix = []; \n",
    "    for ci in c: # [0 6 19 20]\n",
    "        row = []\n",
    "        for node in L:\n",
    "            inx = nodelist.index(node)\n",
    "            if inx in ci:\n",
    "#                 row.append(inx+1)\n",
    "#                row.append(ci.index(inx)+1)\n",
    "                row.append(1)\n",
    "            else:\n",
    "                row.append(0)\n",
    "        matrix.append(row)\n",
    "    for q in [3]:#range(1,8):#[3,4,5]:\n",
    "        mat = [];\n",
    "        for j,row in enumerate(matrix):\n",
    "            new = []; leng = 0\n",
    "            # construct new row\n",
    "            for i,node in enumerate(row):\n",
    "                if node == 0:\n",
    "                    if leng == 0:\n",
    "                        new.append(0)\n",
    "                    else:\n",
    "                        if leng > q:\n",
    "                            new += row[i-leng:i]+[0]\n",
    "                        else:\n",
    "                            new += [0]*leng+[0]\n",
    "                        leng = 0\n",
    "                else:\n",
    "                    leng += 1\n",
    "            if leng != 0:\n",
    "                if leng > q:\n",
    "                    new += row[len(row)-leng:]\n",
    "                else:\n",
    "                    new += [0]*leng\n",
    "            mat.append(new)\n",
    "    \n",
    "    return mat\n",
    "\n",
    "mat1 = nodeoverlap(c, L, nodelist)  \n",
    "\n"
   ]
  },
  {
   "cell_type": "code",
   "execution_count": 4,
   "metadata": {},
   "outputs": [],
   "source": [
    "import matplotlib.pyplot as plt\n",
    "\n",
    "import seaborn as sns"
   ]
  },
  {
   "cell_type": "code",
   "execution_count": 5,
   "metadata": {},
   "outputs": [
    {
     "data": {
      "image/png": "[encoded data removed]",
      "text/plain": [
       "<Figure size 576x360 with 1 Axes>"
      ]
     },
     "metadata": {
      "needs_background": "light"
     },
     "output_type": "display_data"
    }
   ],
   "source": [
    "# plot overlap matrix\n",
    "fig, ax = plt.subplots(1, 1, figsize=(8, 5))\n",
    "\n",
    "from matplotlib.colors import ListedColormap\n",
    "\n",
    "# import matplotlib.ticker as ticker\n",
    "# tick_spacing= 50\n",
    "# ax.xaxis.set_major_locator(ticker.MultipleLocator(tick_spacing))\n",
    "\n",
    "ax=sns.heatmap(mat1, cmap=ListedColormap(['white', (0.2,0.8,0.8)]),yticklabels = ['C'+str(i+1) for i in range(len(mat1))],cbar=False)\n",
    "\n",
    "\n",
    "\n",
    "ax.axhline(y = 0, color='k',linewidth = 1)\n",
    "ax.axhline(y = len(mat1)-0.1, color = 'k',\n",
    "            linewidth = 1)\n",
    "  \n",
    "ax.axvline(x = 0, color = 'k',\n",
    "            linewidth = 1)\n",
    "  \n",
    "ax.axvline(x = len(mat1[0])-0.6, \n",
    "            color = 'k', linewidth = 1)\n",
    "\n",
    "\n",
    "# ax.xaxis.set_ticks_position('top')\n",
    "# xtickss = np.arange(0,440,50)\n",
    "# plt.xticks(xtickss)\n",
    "n = 5  \n",
    "[l.set_visible(False) for (i,l) in enumerate(ax.xaxis.get_ticklabels()) if i % n != 0]\n",
    "\n",
    "\n",
    "\n",
    "\n",
    "plt.setp(ax.get_xticklabels(), rotation=360)\n",
    "ax.tick_params(axis=u'both', which=u'both',length=0)\n",
    "plt.title('Sujechon_haegeumjeongakbo')\n",
    "plt.savefig('sjc_haegeumjeongakbo_om',bbox_inches='tight')\n",
    "plt.show()"
   ]
  },
  {
   "cell_type": "code",
   "execution_count": null,
   "metadata": {},
   "outputs": [],
   "source": []
  }
 ],
 "metadata": {
  "kernelspec": {
   "display_name": "gudhi3.3homcolud2.9",
   "language": "python",
   "name": "newpy3"
  },
  "language_info": {
   "codemirror_mode": {
    "name": "ipython",
    "version": 3
   },
   "file_extension": ".py",
   "mimetype": "text/x-python",
   "name": "python",
   "nbconvert_exporter": "python",
   "pygments_lexer": "ipython3",
   "version": "3.8.5"
  }
 },
 "nbformat": 4,
 "nbformat_minor": 4
}
