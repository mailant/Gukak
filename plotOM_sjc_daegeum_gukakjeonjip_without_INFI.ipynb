{
 "cells": [
  {
   "cell_type": "markdown",
   "metadata": {},
   "source": [
    "# Plot overlap matrix of Sujechon"
   ]
  },
  {
   "cell_type": "markdown",
   "metadata": {},
   "source": [
    "## Find distance matrix"
   ]
  },
  {
   "cell_type": "code",
   "execution_count": 1,
   "metadata": {},
   "outputs": [],
   "source": [
    "########################################## FIND DIST_MAT ##########################################\n",
    "        \n",
    "import networkx as nx\n",
    "from sympy import zeros\n",
    "import numpy as np\n",
    "\n",
    "# songname = 'sujechon_haegeumjeongakbo_with_sikimse'\n",
    "# songname = 'sujechon_gukakjeonjip_with_sikimse'\n",
    "# songname = 'sujechon_daegeum_gukakjeonjip'\n",
    "songname = 'sujechon_daegeum_gukakjeonjip_without_INFI'\n",
    "\n",
    "output_nodelist = songname + '_nodelist.txt'\n",
    "output_distmat = songname + '_distmat.txt'\n",
    "\n",
    "\n",
    "\n",
    "allnode = songname + '_allnode.txt'\n",
    "\n",
    "L = np.loadtxt(allnode)\n",
    "\n",
    "G = nx.Graph()\n",
    "G.add_nodes_from(L)\n",
    "\n",
    "for i in range(len(L)-1):\n",
    "#     if int(L[i])!= 0 and int(L[i+1])!=0:\n",
    "    if L[i] != L[i+1]:\n",
    "        e0 = L[i]\n",
    "        e1 = L[i+1]\n",
    "        if G.has_edge(e0,e1): \n",
    "            G[e0][e1]['weight'] += 1\n",
    "        else:\n",
    "            G.add_edge(e0,e1,weight=1)\n",
    "        \n",
    "# find nodelist and save to a file\n",
    "nodelist = list(G.nodes)\n",
    "with open(output_nodelist,'w') as f:\n",
    "    for node in nodelist:\n",
    "        f.write('%s\\n' % node)   \n",
    "        \n",
    "\n",
    "# find distance matrix\n",
    "distmat = zeros(len(G.nodes))\n",
    "for i in range(len(G.nodes)):\n",
    "    for j in range(i,len(G.nodes)):\n",
    "        if j == i:\n",
    "            distmat[i,j] = 0\n",
    "        else:\n",
    "            path = nx.shortest_path(G,nodelist[i],nodelist[j]) # shortest_path\n",
    "            for k in range(len(path)-1):\n",
    "                distmat[i,j] += 1/G[path[k]][path[k+1]]['weight']\n",
    "        distmat[j,i] = distmat[i,j]\n",
    "\n",
    "# write distance matrix to a file\n",
    "mat = np.matrix(distmat)\n",
    "with open(output_distmat,'w') as f:\n",
    "    for line in mat:\n",
    "        np.savetxt(f,line,fmt='%.15f')"
   ]
  },
  {
   "cell_type": "markdown",
   "metadata": {},
   "source": [
    "## (Run Matlab code after this step to find annotated intervals.)"
   ]
  },
  {
   "cell_type": "markdown",
   "metadata": {},
   "source": [
    "## extract cycle info"
   ]
  },
  {
   "cell_type": "code",
   "execution_count": 2,
   "metadata": {},
   "outputs": [],
   "source": [
    "def d1_info(filename): # filename = input_matlabinfo\n",
    "    import json  \n",
    "    f = open(filename,'r'); l = len(f.readlines())\n",
    "    f = open(filename,'r')\n",
    "    \n",
    "    s = []\n",
    "    for i in range(l):\n",
    "        s.append(f.readline())\n",
    "        \n",
    "    # dim1 info\n",
    "    d1s = []    \n",
    "    for i in range(l):\n",
    "        if s[i] == 'Dimension: 1\\n':\n",
    "            start_inx = i+1\n",
    "    for j in range(start_inx,l):        \n",
    "        if s[j] == 'Dimension: 2\\n' or s[j] == '\\n':\n",
    "            end_inx = j\n",
    "            break\n",
    "    for k in range(start_inx,end_inx):        \n",
    "            d1s.append(s[k])\n",
    "            \n",
    "    # get cycle info      \n",
    "    c_info = []        \n",
    "    for i in range(len(d1s)):\n",
    "        ci_int,ci = d1s[i].split(': ')  \n",
    "        ci = ci.split('\\n')[0]\n",
    "        ci_edge = ci.split(' + ')\n",
    "        for j in range(len(ci_edge)):\n",
    "            if ci_edge[j][0] == '-':\n",
    "                ci_edge[j] = json.loads(ci_edge[j][1:])\n",
    "                ci_edge[j] = ci_edge[j][::-1]\n",
    "            else:\n",
    "                ci_edge[j] = json.loads(ci_edge[j])\n",
    "        ci_node = []\n",
    "        for k in range(len(ci_edge)):\n",
    "            for node in ci_edge[k]:\n",
    "                if not(node in ci_node):\n",
    "                    ci_node.append(node)\n",
    "        ci_node.sort()\n",
    "        c_info.append([ci_node,ci_int,ci_edge])\n",
    "    c = []\n",
    "    e = []\n",
    "    for i in range(len(c_info)):\n",
    "        c.append(c_info[i][0])\n",
    "        e.append(c_info[i][2])    \n",
    "    return d1s,c,e    \n",
    "############################################################################### \n",
    "\n",
    "input_matlabinfo = songname + '_intervals.txt'\n",
    "output = songname + '_cycleinfo_matlabinx.txt'\n",
    "\n",
    "\n",
    "\n",
    "_,c,_ = d1_info(input_matlabinfo)\n",
    "# write cycle info to a file\n",
    "with open(output,'w') as f:\n",
    "    for item in c:\n",
    "        f.write('%s\\n' %item)\n",
    "\n"
   ]
  },
  {
   "cell_type": "code",
   "execution_count": 3,
   "metadata": {},
   "outputs": [
    {
     "data": {
      "text/plain": [
       "[[4, 10, 19, 20],\n",
       " [2, 7, 10, 30],\n",
       " [2, 5, 9, 11],\n",
       " [6, 7, 9, 18, 30],\n",
       " [9, 20, 28, 31],\n",
       " [4, 6, 7, 34],\n",
       " [2, 6, 7, 15, 16],\n",
       " [2, 3, 4, 20],\n",
       " [2, 12, 13, 14, 15, 16],\n",
       " [9, 10, 19, 40],\n",
       " [6, 7, 15, 52],\n",
       " [6, 7, 47, 53],\n",
       " [4, 9, 10, 28, 38],\n",
       " [5, 10, 20, 26],\n",
       " [5, 10, 20, 41],\n",
       " [5, 10, 26, 37],\n",
       " [2, 6, 12, 15, 23, 24],\n",
       " [5, 9, 36, 43],\n",
       " [2, 3, 6, 21, 32, 33],\n",
       " [2, 7, 11, 49, 50, 51],\n",
       " [9, 10, 17, 69],\n",
       " [4, 10, 32, 44],\n",
       " [6, 7, 15, 63],\n",
       " [6, 7, 47, 68],\n",
       " [6, 7, 60, 61],\n",
       " [11, 15, 46, 47],\n",
       " [11, 15, 47, 48],\n",
       " [11, 15, 47, 54],\n",
       " [12, 15, 47, 62],\n",
       " [15, 24, 51, 67],\n",
       " [1, 7, 15, 47, 63, 64, 65]]"
      ]
     },
     "execution_count": 3,
     "metadata": {},
     "output_type": "execute_result"
    }
   ],
   "source": [
    "c"
   ]
  },
  {
   "cell_type": "markdown",
   "metadata": {},
   "source": [
    "## convert music ordered (matlab) index to pitch ordered index"
   ]
  },
  {
   "cell_type": "code",
   "execution_count": 4,
   "metadata": {},
   "outputs": [],
   "source": [
    "# convert node index from MUSIC ORDERED (matlab result) -> PITCH ORDERED (paper)\n",
    "import numpy as np\n",
    "import json\n",
    "\n",
    "nl = np.loadtxt(songname+'_nodelist.txt',delimiter=',')\n",
    "in_matlabinx = open(songname+'_cycleinfo_matlabinx.txt')\n",
    "out_paperinx = songname+'_cycleinfo_pitchinx.txt'\n",
    "\n",
    "\n",
    "def convert(nl,in_matlabinx,out_paperinx):\n",
    "    f = in_matlabinx\n",
    "    nls = sorted(nl)\n",
    "    paperinx = []\n",
    "    Lines = f.readlines()\n",
    "    for line in Lines:\n",
    "        ci = json.loads(line)\n",
    "        ci_paperinx = []\n",
    "        for i in ci:\n",
    "            n = nl[i]\n",
    "            for j,node in enumerate(nls):\n",
    "                if node == n:\n",
    "                    ci_paperinx.append(j)\n",
    "        paperinx.append(ci_paperinx)\n",
    "        with open(out_paperinx,'w') as outf:\n",
    "            for ci_p in paperinx:\n",
    "                outf.write('%s\\n' % ci_p)\n",
    "convert(nl,in_matlabinx,out_paperinx)\n",
    "\n",
    "\n",
    "\n",
    "\n",
    "                "
   ]
  },
  {
   "cell_type": "markdown",
   "metadata": {},
   "source": [
    "## Plot overlap matrix"
   ]
  },
  {
   "cell_type": "code",
   "execution_count": 5,
   "metadata": {},
   "outputs": [],
   "source": [
    "####### Cycle node numbers ##################\n",
    "import json\n",
    "f = open(songname+'_cycleinfo_pitchinx.txt')\n",
    "c = []\n",
    "Lines = f.readlines()\n",
    "for line in Lines:\n",
    "    ci = json.loads(line)\n",
    "    c.append(ci)\n",
    "\n",
    "import numpy as np\n",
    "L = list(np.loadtxt(songname+'_allnode.txt',delimiter=','))    \n",
    "nodelist = list(np.loadtxt(songname+'_nodelist.txt',delimiter=','))\n",
    "nodelist = sorted(nodelist)    \n",
    "\n",
    "def nodeoverlap(c, L, nodelist):\n",
    "    matrix = []; \n",
    "    for ci in c: # [0 6 19 20]\n",
    "        row = []\n",
    "        for node in L:\n",
    "            inx = nodelist.index(node)\n",
    "            if inx in ci:\n",
    "#                 row.append(inx+1)\n",
    "#                row.append(ci.index(inx)+1)\n",
    "                row.append(1)\n",
    "            else:\n",
    "                row.append(0)\n",
    "        matrix.append(row)\n",
    "    for q in [3]:#range(1,8):#[3,4,5]:\n",
    "        mat = [];\n",
    "        for j,row in enumerate(matrix):\n",
    "            new = []; leng = 0\n",
    "            # construct new row\n",
    "            for i,node in enumerate(row):\n",
    "                if node == 0:\n",
    "                    if leng == 0:\n",
    "                        new.append(0)\n",
    "                    else:\n",
    "                        if leng > q:\n",
    "                            new += row[i-leng:i]+[0]\n",
    "                        else:\n",
    "                            new += [0]*leng+[0]\n",
    "                        leng = 0\n",
    "                else:\n",
    "                    leng += 1\n",
    "            if leng != 0:\n",
    "                if leng > q:\n",
    "                    new += row[len(row)-leng:]\n",
    "                else:\n",
    "                    new += [0]*leng\n",
    "            mat.append(new)\n",
    "    \n",
    "    return mat\n",
    "\n",
    "mat1 = nodeoverlap(c, L, nodelist)  \n",
    "\n",
    "\n"
   ]
  },
  {
   "cell_type": "code",
   "execution_count": 6,
   "metadata": {},
   "outputs": [],
   "source": [
    "import matplotlib.pyplot as plt\n",
    "\n",
    "import seaborn as sns"
   ]
  },
  {
   "cell_type": "code",
   "execution_count": 7,
   "metadata": {},
   "outputs": [
    {
     "data": {
      "image/png": "[encoded data removed]",
      "text/plain": [
       "<Figure size 576x360 with 1 Axes>"
      ]
     },
     "metadata": {
      "needs_background": "light"
     },
     "output_type": "display_data"
    }
   ],
   "source": [
    "# plot overlap matrix\n",
    "fig, ax = plt.subplots(1, 1, figsize=(8, 5))\n",
    "\n",
    "from matplotlib.colors import ListedColormap\n",
    "\n",
    "\n",
    "ax=sns.heatmap(mat1, cmap=ListedColormap(['white', (0.2,0.8,0.8)]),yticklabels = ['C'+str(i+1) for i in range(len(mat1))],cbar=False)\n",
    "\n",
    "\n",
    "\n",
    "ax.axhline(y = 0, color='k',linewidth = 1)\n",
    "ax.axhline(y = len(mat1)-0.1, color = 'k',\n",
    "            linewidth = 1)\n",
    "  \n",
    "ax.axvline(x = 0, color = 'k',\n",
    "            linewidth = 1)\n",
    "  \n",
    "ax.axvline(x = len(mat1[0])-0.6, \n",
    "            color = 'k', linewidth = 1)\n",
    "\n",
    "\n",
    "n = 5  \n",
    "[l.set_visible(False) for (i,l) in enumerate(ax.xaxis.get_ticklabels()) if i % n != 0]\n",
    "\n",
    "\n",
    "\n",
    "\n",
    "plt.setp(ax.get_xticklabels(), rotation=360)\n",
    "ax.tick_params(axis=u'both', which=u'both',length=0)\n",
    "plt.title(songname)\n",
    "plt.savefig(songname,bbox_inches='tight')\n",
    "plt.show()"
   ]
  },
  {
   "cell_type": "code",
   "execution_count": 8,
   "metadata": {},
   "outputs": [
    {
     "name": "stdout",
     "output_type": "stream",
     "text": [
      "The denseness of sujechon_daegeum_gukakjeonjip_without_INFI =  0.01599234554401312\n",
      "The overlap percentage =  5.990783410138248 %\n"
     ]
    }
   ],
   "source": [
    "########### DENSENESS ####################\n",
    "count = 0\n",
    "for row in mat1:\n",
    "    for i,node in enumerate(row):\n",
    "        if node != 0:\n",
    "            count += 1 \n",
    "density = count/(len(mat1[0])*len(c))\n",
    "print('The denseness of {} = '.format(songname), density)\n",
    "\n",
    "########### OVERLAP ####################\n",
    "s = np.zeros(len(mat1[0]))    \n",
    "for i in range(len(mat1)):\n",
    "    s += np.array(mat1[i])\n",
    "count_overlap = 0\n",
    "count_singlecycle = 0\n",
    "count_nocycle = 0\n",
    "for i in range(len(s)):\n",
    "    if s[i] >= 2:\n",
    "        count_overlap += 1\n",
    "    elif s[i] == 1:\n",
    "        count_singlecycle += 1\n",
    "    elif s[i] == 0:\n",
    "        count_nocycle += 1\n",
    "print('The overlap percentage = ',count_overlap/(len(s)-count_nocycle)*100,'%' )    \n",
    "# print('more than one cycle played = ', count_overlap)\n",
    "# print('single cycle played =  ',count_singlecycle)\n",
    "# print('no cycle played = ',count_nocycle)\n",
    "# if count_overlap > 0:\n",
    "#    print('max number of cycle overlapping = ',max(s))\n",
    "\n"
   ]
  },
  {
   "cell_type": "code",
   "execution_count": null,
   "metadata": {},
   "outputs": [],
   "source": []
  }
 ],
 "metadata": {
  "kernelspec": {
   "display_name": "gudhi3.3homcolud2.9",
   "language": "python",
   "name": "newpy3"
  },
  "language_info": {
   "codemirror_mode": {
    "name": "ipython",
    "version": 3
   },
   "file_extension": ".py",
   "mimetype": "text/x-python",
   "name": "python",
   "nbconvert_exporter": "python",
   "pygments_lexer": "ipython3",
   "version": "3.8.5"
  }
 },
 "nbformat": 4,
 "nbformat_minor": 4
}
