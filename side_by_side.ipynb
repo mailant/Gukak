{
 "cells": [
  {
   "cell_type": "code",
   "execution_count": 1,
   "metadata": {},
   "outputs": [
    {
     "name": "stdout",
     "output_type": "stream",
     "text": [
      "For cycle 1 there is no edge btw nodes 22 20\n",
      "For cycle 2 there is no edge btw nodes 6 3\n",
      "For cycle 2 there is no edge btw nodes 18 12\n",
      "For cycle 3 there is no edge btw nodes 22 20\n",
      "For cycle 3 there is no edge btw nodes 22 26\n",
      "For cycle 3 there is no edge btw nodes 22 23\n",
      "For cycle 3 there is no edge btw nodes 20 23\n",
      "For cycle 3 there is no edge btw nodes 20 16\n",
      "For cycle 3 there is no edge btw nodes 26 16\n",
      "For cycle 4 there is no edge btw nodes 11 7\n",
      "For cycle 4 there is no edge btw nodes 11 0\n",
      "For cycle 4 there is no edge btw nodes 6 2\n",
      "For cycle 4 there is no edge btw nodes 6 7\n",
      "For cycle 4 there is no edge btw nodes 2 0\n",
      "For cycle 5 there is no edge btw nodes 6 21\n",
      "For cycle 5 there is no edge btw nodes 18 16\n",
      "For cycle 6 there is no edge btw nodes 6 21\n",
      "For cycle 6 there is no edge btw nodes 6 24\n",
      "For cycle 6 there is no edge btw nodes 18 24\n",
      "For cycle 6 there is no edge btw nodes 1 21\n",
      "For cycle 7 there is no edge btw nodes 22 30\n",
      "For cycle 7 there is no edge btw nodes 22 25\n",
      "For cycle 7 there is no edge btw nodes 6 27\n",
      "For cycle 7 there is no edge btw nodes 6 30\n",
      "For cycle 7 there is no edge btw nodes 6 25\n",
      "For cycle 7 there is no edge btw nodes 18 30\n",
      "For cycle 7 there is no edge btw nodes 27 25\n",
      "For cycle 8 there is no edge btw nodes 22 30\n",
      "For cycle 8 there is no edge btw nodes 27 29\n"
     ]
    }
   ],
   "source": [
    "import numpy as np\n",
    "import networkx as nx\n",
    "allnode = np.loadtxt('syj_allnode_paper.txt')\n",
    "G = nx.Graph()\n",
    "G.add_nodes_from(allnode)\n",
    "\n",
    "for i in range(len(allnode)-1):\n",
    "    if allnode[i] != allnode[i+1]:\n",
    "        e0 = allnode[i]\n",
    "        e1 = allnode[i+1]\n",
    "        if G.has_edge(e0,e1): \n",
    "            G[e0][e1]['weight'] += 1\n",
    "        else:\n",
    "            G.add_edge(e0,e1,weight=1)\n",
    "\n",
    "# convert music index to pitch/paper index\n",
    "nl = list(G.nodes)\n",
    "nls = sorted(nl)\n",
    "def convertinx(i_m):\n",
    "    n_m = nl[i_m] # node in music order\n",
    "    for i_p,node in enumerate(nls):\n",
    "        if node == n_m:\n",
    "            return i_p        \n",
    "cycles = [[0, 6, 19, 20],\n",
    "[5, 6, 14, 15],\n",
    "[0, 19, 21, 23, 24],\n",
    "[2, 5, 7, 8, 9],\n",
    "[5, 6, 24, 29],\n",
    "[5, 6, 10, 29, 32],\n",
    "[0, 5, 6, 20, 25, 26],\n",
    "[0, 20, 25, 30]] # music order (returned by javaplex)\n",
    "for k,ci in enumerate(cycles):\n",
    "    for i in range(len(ci)-1):\n",
    "        for j in range(i+1,len(ci)):\n",
    "            e0 = nl[ci[i]]\n",
    "            e1 = nl[ci[j]]\n",
    "            if not(G.has_edge(e0,e1)):\n",
    "                i_p = convertinx(ci[i])\n",
    "                j_p = convertinx(ci[j])\n",
    "                print('For cycle',k+1,'there is no edge btw nodes', i_p, j_p )\n",
    "\n",
    "\n"
   ]
  },
  {
   "cell_type": "code",
   "execution_count": null,
   "metadata": {},
   "outputs": [],
   "source": []
  }
 ],
 "metadata": {
  "kernelspec": {
   "display_name": "Python 3",
   "language": "python",
   "name": "python3"
  },
  "language_info": {
   "codemirror_mode": {
    "name": "ipython",
    "version": 3
   },
   "file_extension": ".py",
   "mimetype": "text/x-python",
   "name": "python",
   "nbconvert_exporter": "python",
   "pygments_lexer": "ipython3",
   "version": "3.7.3"
  }
 },
 "nbformat": 4,
 "nbformat_minor": 4
}
